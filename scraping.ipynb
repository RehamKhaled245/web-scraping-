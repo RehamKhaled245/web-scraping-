{
 "cells": [
  {
   "cell_type": "code",
   "execution_count": 14,
   "metadata": {},
   "outputs": [],
   "source": [
    "import requests\n",
    "from bs4 import BeautifulSoup\n"
   ]
  },
  {
   "cell_type": "code",
   "execution_count": 15,
   "metadata": {},
   "outputs": [
    {
     "name": "stdout",
     "output_type": "stream",
     "text": [
      "b'<!DOCTYPE html>\\n\\n<html>\\n\\n    <head>\\n        <title>Web Scraping Task with Form</title>\\n\\n         <style>\\n        body {\\n            font-family: Arial, sans-serif;\\n            margin: 20px;\\n            background-color: #f5f5f5;\\n        }\\n\\n        h1 {\\n            color: darkred;\\n            text-align: center;\\n        }\\n\\n        h2 {\\n            color: darkblue;\\n            font-style: italic;\\n        }\\n\\n        p {\\n            color: #555;\\n            font-size: 14px;\\n        }\\n\\n        img {\\n            width: 250px;\\n            height: auto;\\n            border-radius: 10px;\\n        }\\n\\n        table {\\n            width: 100%;\\n            border-collapse: collapse;\\n            margin: 20px 0;\\n        }\\n\\n        table, th, td {\\n            border: 1px solid #ccc;\\n        }\\n\\n        th {\\n            background-color: #333;\\n            color: white;\\n            padding: 10px;\\n        }\\n\\n        td {\\n            text-align: center;\\n            padding: 10px;\\n        }\\n\\n        .btn {\\n            background-color: darkgreen;\\n            color: white;\\n            border: none;\\n            padding: 10px 20px;\\n            cursor: pointer;\\n            text-transform: uppercase;\\n            font-weight: bold;\\n        }\\n\\n        .btn:hover {\\n            background-color: green;\\n        }\\n\\n        ul {\\n            list-style-type: square;\\n        }\\n\\n        iframe {\\n            display: block;\\n            margin: 20px auto;\\n            border: none;\\n        }\\n\\n        .footer {\\n            background-color: #333;\\n            color: white;\\n            text-align: center;\\n            padding: 10px 0;\\n            margin-top: 30px;\\n        }\\n\\n        .highlight {\\n            background-color: yellow;\\n            font-weight: bold;\\n        }\\n\\n        form {\\n            margin: 20px 0;\\n            background-color: #fff;\\n            padding: 20px;\\n            border: 1px solid #ccc;\\n            border-radius: 5px;\\n        }\\n\\n        form input, form select, form button {\\n            display: block;\\n            margin: 10px 0;\\n            padding: 10px;\\n            width: 100%;\\n            max-width: 400px;\\n            border: 1px solid #ccc;\\n            border-radius: 5px;\\n        }\\n\\n        .products {\\n            display: flex;\\n            flex-wrap: wrap;\\n            justify-content: center;\\n            gap: 20px;\\n            margin-top: 30px;\\n        }\\n\\n        .product-card {\\n            width: 250px;\\n            border: 1px solid #ddd;\\n            border-radius: 8px;\\n            background-color: #fff;\\n            box-shadow: 0 4px 6px rgba(0, 0, 0, 0.1);\\n            text-align: center;\\n            overflow: hidden;\\n            transition: transform 0.3s ease, box-shadow 0.3s ease;\\n        }\\n\\n        .product-card:hover {\\n            transform: translateY(-5px);\\n            box-shadow: 0 8px 12px rgba(0, 0, 0, 0.2);\\n        }\\n\\n        .product-card img {\\n            width: 100%;\\n            height: 150px;\\n            object-fit: cover;\\n        }\\n\\n        .product-card .name {\\n            font-size: 18px;\\n            font-weight: bold;\\n            margin: 15px 0 5px;\\n            color: #333;\\n        }\\n\\n        .product-card .price {\\n            font-size: 16px;\\n            color: #28a745;\\n            margin: 5px 0;\\n        }\\n\\n        .product-card .colors {\\n            font-size: 14px;\\n            color: #666;\\n            margin-bottom: 15px;\\n        }\\n\\n        .product-card button {\\n            background-color: #007bff;\\n            color: white;\\n            border: none;\\n            padding: 10px 20px;\\n            margin: 10px 0;\\n            cursor: pointer;\\n            border-radius: 5px;\\n            font-size: 14px;\\n            transition: background-color 0.3s ease;\\n        }\\n\\n        .product-card button:hover {\\n            background-color: #0056b3;\\n        }\\n    </style>\\n    </head>\\n\\n    <body>\\n        <h1>Web Scraping Practice</h1>\\n        <p>Welcome to the web scraping task! Use your skills to extract the required data from this page.</p>\\n\\n        <h2>Available Products</h2>\\n        <ul>\\n            <li class=\"highlight\">Laptop</li>\\n            <li>Smartphone</li>\\n            <li>Tablet</li>\\n            <li>Smartwatch</li>\\n        </ul>\\n\\n        <h2>Product Table</h2>\\n        <table>\\n            <tr>\\n                <th>Product</th>\\n                <th>Price</th>\\n                <th>In Stock</th>\\n            </tr>\\n            <tr>\\n                <td>Laptop</td>\\n                <td>$1000</td>\\n                <td>Yes</td>\\n            </tr>\\n            <tr>\\n                <td>Smartphone</td>\\n                <td>$800</td>\\n                <td>No</td>\\n            </tr>\\n            <tr>\\n                <td>Tablet</td>\\n                <td>$500</td>\\n                <td>Yes</td>\\n            </tr>\\n        </table>\\n\\n        <h2>Watch This Video</h2>\\n        <iframe width=\"560\" height=\"315\" src=\"https://www.youtube.com/watch?v=ujf9RNuBdCU\"></iframe>\\n        \\n        \\n\\n        \\n        <h2>Contact Us</h2>\\n        <form>\\n            <label for=\"username\">Username:</label>\\n            <input type=\"text\" id=\"username\" name=\"username\" placeholder=\"Enter your username\">\\n\\n            <label for=\"password\">Password:</label>\\n            <input type=\"password\" id=\"password\" name=\"password\" placeholder=\"Enter your password\">\\n\\n            <label for=\"options\">Choose an option:</label>\\n            <select id=\"options\" name=\"options\">\\n                <option value=\"option1\">Option 1</option>\\n                <option value=\"option2\">Option 2</option>\\n                <option value=\"option3\">Option 3</option>\\n            </select>\\n\\n            <label>\\n                <input type=\"checkbox\" name=\"terms\"> I agree to the terms and conditions\\n            </label>\\n\\n            <input type=\"submit\" value=\"Submit\">\\n        </form>\\n\\n<h2>Product Information</h2>\\n<div style=\"display: flex; justify-content: space-around; margin-top: 20px;\">\\n    <div style=\"text-align: center; width: 200px; border: 1px solid #ddd; padding: 10px; border-radius: 5px;\">\\n        <img src=\"book1.jpg\" alt=\"Sharp Objects\" style=\"width: 100%; height: auto; border-radius: 5px;\">\\n        <p><strong>Sharp Objects</strong></p>\\n        <p style=\"color: green;\">\\xc2\\xa347.82</p>\\n        <p style=\"color: green;\">\\xe2\\x9c\\x94 In stock</p>\\n        <button style=\"background-color: blue; color: white; border: none; padding: 10px 15px; border-radius: 5px; cursor: pointer;\">Add to basket</button>\\n    </div>\\n\\n    <div style=\"text-align: center; width: 200px; border: 1px solid #ddd; padding: 10px; border-radius: 5px;\">\\n        <img src=\"book2.jpg\" alt=\"In a Dark, Dark Wood\" style=\"width: 100%; height: auto; border-radius: 5px;\">\\n        <p><strong>In a Dark, Dark Wood</strong></p>\\n        <p style=\"color: green;\">\\xc2\\xa319.63</p>\\n        <p style=\"color: green;\">\\xe2\\x9c\\x94 In stock</p>\\n        <button style=\"background-color: blue; color: white; border: none; padding: 10px 15px; border-radius: 5px; cursor: pointer;\">Add to basket</button>\\n    </div>\\n\\n    <div style=\"text-align: center; width: 200px; border: 1px solid #ddd; padding: 10px; border-radius: 5px;\">\\n        <img href=\"http://books.toscrape.com/media/cache/c0/59/c05972805aa7201171b8fc71a5b00292.jpg\" alt=\"The Past Never Ends\" style=\"width: 100%; height: auto; border-radius: 5px;\">\\n        <p><strong>The Past Never Ends</strong></p>\\n        <p style=\"color: green;\">\\xc2\\xa356.50</p>\\n        <p style=\"color: green;\">\\xe2\\x9c\\x94 In stock</p>\\n        <button style=\"background-color: blue; color: white; border: none; padding: 10px 15px; border-radius: 5px; cursor: pointer;\">Add to basket</button>\\n    </div>\\n\\n    <div style=\"text-align: center; width: 200px; border: 1px solid #ddd; padding: 10px; border-radius: 5px;\">\\n        <img src=\"book4.jpg\" alt=\"A Murder in Time\" style=\"width: 100%; height: auto; border-radius: 5px;\">\\n        <p><strong>A Murder in Time</strong></p>\\n        <p style=\"color: green;\">\\xc2\\xa316.64</p>\\n        <p style=\"color: green;\"> Out stock</p>\\n        <button style=\"background-color: blue; color: white; border: none; padding: 10px 15px; border-radius: 5px; cursor: pointer;\">Add to basket</button>\\n    </div>\\n</div>\\n\\n    \\n\\n    <h2>Featured Products</h2>\\n    <div class=\"products\">\\n        <div class=\"product-card\" data-id=\"101\">\\n            <img src=\"https://via.placeholder.com/250x150?text=Product+1\" alt=\"Wireless Headphones\">\\n            <p class=\"name\">Wireless Headphones</p>\\n            <p class=\"price\" style=\"display: none;\">$49.99</p>\\n            <p class=\"colors\">Available colors: Black, White, Blue</p>\\n            <button>Add to Basket</button>\\n        </div>\\n        <div class=\"product-card\" data-id=\"102\">\\n            <img src=\"https://via.placeholder.com/250x150?text=Product+2\" alt=\"Smart Speaker\">\\n            <p class=\"name\">Smart Speaker</p>\\n            <p class=\"price\" style=\"display: none;\">$89.99</p>\\n            <p class=\"colors\">Available colors: Grey, Black</p>\\n            <button>Add to Basket</button>\\n        </div>\\n        <div class=\"product-card\" data-id=\"103\">\\n            <img src=\"https://via.placeholder.com/250x150?text=Product+3\" alt=\"Smart Watch\">\\n            <p class=\"name\">Smart Watch</p>\\n            <p class=\"price\" style=\"display: none;\">$149.99</p>\\n            <p class=\"colors\">Available colors: Black, Silver, Gold</p>\\n            <button>Add to Basket</button>\\n        </div>\\n    </div>\\n\\n    <div class=\"footer\">\\n            <p>&copy; 2024 Web Scraping Practice. All Rights Reserved.</p>\\n        </div>\\n    </body>\\n</html>\\n'\n"
     ]
    }
   ],
   "source": [
    "url = 'https://www.baraasallout.com/test.html'\n",
    "page = requests.get(url)\n",
    "print(page.content)"
   ]
  },
  {
   "cell_type": "code",
   "execution_count": 16,
   "metadata": {},
   "outputs": [],
   "source": [
    "soup = BeautifulSoup(page.content, \"html.parser\")\n"
   ]
  },
  {
   "cell_type": "markdown",
   "metadata": {},
   "source": [
    "Extract all headings (h1, h2).<br>\n",
    "Extract all text content inside p and li tags"
   ]
  },
  {
   "cell_type": "code",
   "execution_count": 17,
   "metadata": {},
   "outputs": [],
   "source": [
    "\n",
    "output=[]\n",
    "h1=soup.find('h1')\n",
    "output.append(['heading',h1.get_text()]) \n",
    "\n",
    "h2=soup.find_all('h2')\n",
    "for i in range(len(h2)):\n",
    "    output.append(['heading',h2[i].get_text()])\n",
    "\n",
    "p=soup.find_all('p')\n",
    "for i in range(len(p)):\n",
    "    output.append(['paragraph',p[i].get_text()])    \n",
    "\n",
    "li=soup.find_all('li')\n",
    "for i in range(len(li)):\n",
    "    output.append(['list',li[i].get_text()])  \n",
    "\n"
   ]
  },
  {
   "cell_type": "code",
   "execution_count": 18,
   "metadata": {},
   "outputs": [
    {
     "data": {
      "text/plain": [
       "[['heading', 'Web Scraping Practice'],\n",
       " ['heading', 'Available Products'],\n",
       " ['heading', 'Product Table'],\n",
       " ['heading', 'Watch This Video'],\n",
       " ['heading', 'Contact Us'],\n",
       " ['heading', 'Product Information'],\n",
       " ['heading', 'Featured Products'],\n",
       " ['paragraph',\n",
       "  'Welcome to the web scraping task! Use your skills to extract the required data from this page.'],\n",
       " ['paragraph', 'Sharp Objects'],\n",
       " ['paragraph', '£47.82'],\n",
       " ['paragraph', '✔ In stock'],\n",
       " ['paragraph', 'In a Dark, Dark Wood'],\n",
       " ['paragraph', '£19.63'],\n",
       " ['paragraph', '✔ In stock'],\n",
       " ['paragraph', 'The Past Never Ends'],\n",
       " ['paragraph', '£56.50'],\n",
       " ['paragraph', '✔ In stock'],\n",
       " ['paragraph', 'A Murder in Time'],\n",
       " ['paragraph', '£16.64'],\n",
       " ['paragraph', ' Out stock'],\n",
       " ['paragraph', 'Wireless Headphones'],\n",
       " ['paragraph', '$49.99'],\n",
       " ['paragraph', 'Available colors: Black, White, Blue'],\n",
       " ['paragraph', 'Smart Speaker'],\n",
       " ['paragraph', '$89.99'],\n",
       " ['paragraph', 'Available colors: Grey, Black'],\n",
       " ['paragraph', 'Smart Watch'],\n",
       " ['paragraph', '$149.99'],\n",
       " ['paragraph', 'Available colors: Black, Silver, Gold'],\n",
       " ['paragraph', '© 2024 Web Scraping Practice. All Rights Reserved.'],\n",
       " ['list', 'Laptop'],\n",
       " ['list', 'Smartphone'],\n",
       " ['list', 'Tablet'],\n",
       " ['list', 'Smartwatch']]"
      ]
     },
     "execution_count": 18,
     "metadata": {},
     "output_type": "execute_result"
    }
   ],
   "source": [
    "output"
   ]
  },
  {
   "cell_type": "code",
   "execution_count": 19,
   "metadata": {},
   "outputs": [],
   "source": [
    "import csv\n",
    "file1= 'task1.csv'\n",
    "with open(file1, mode=\"w\", newline=\"\", encoding=\"utf-8\") as file:\n",
    "    writer = csv.writer(file)\n",
    "    writer.writerow(['Type', 'Content'])  \n",
    "    writer.writerows(output) \n",
    "    "
   ]
  },
  {
   "cell_type": "markdown",
   "metadata": {},
   "source": []
  },
  {
   "cell_type": "code",
   "execution_count": 20,
   "metadata": {},
   "outputs": [
    {
     "data": {
      "text/plain": [
       "<table>\n",
       "<tr>\n",
       "<th>Product</th>\n",
       "<th>Price</th>\n",
       "<th>In Stock</th>\n",
       "</tr>\n",
       "<tr>\n",
       "<td>Laptop</td>\n",
       "<td>$1000</td>\n",
       "<td>Yes</td>\n",
       "</tr>\n",
       "<tr>\n",
       "<td>Smartphone</td>\n",
       "<td>$800</td>\n",
       "<td>No</td>\n",
       "</tr>\n",
       "<tr>\n",
       "<td>Tablet</td>\n",
       "<td>$500</td>\n",
       "<td>Yes</td>\n",
       "</tr>\n",
       "</table>"
      ]
     },
     "execution_count": 20,
     "metadata": {},
     "output_type": "execute_result"
    }
   ],
   "source": [
    "table=soup.find('table')\n",
    "table"
   ]
  },
  {
   "cell_type": "code",
   "execution_count": 21,
   "metadata": {},
   "outputs": [],
   "source": [
    "rows=table.find_all('tr')\n",
    "output=[]\n",
    "header=rows[0].find_all('th')\n",
    "output.append([h.get_text(strip=True)for h in header])\n",
    "for idx in rows:\n",
    "    cols=idx.find_all('td')\n",
    "    if cols:\n",
    "      output.append([col.get_text(strip=True) for col in cols])"
   ]
  },
  {
   "cell_type": "code",
   "execution_count": 22,
   "metadata": {},
   "outputs": [
    {
     "data": {
      "text/plain": [
       "[['Product', 'Price', 'In Stock'],\n",
       " ['Laptop', '$1000', 'Yes'],\n",
       " ['Smartphone', '$800', 'No'],\n",
       " ['Tablet', '$500', 'Yes']]"
      ]
     },
     "execution_count": 22,
     "metadata": {},
     "output_type": "execute_result"
    }
   ],
   "source": [
    "output"
   ]
  },
  {
   "cell_type": "code",
   "execution_count": 23,
   "metadata": {},
   "outputs": [],
   "source": [
    "import csv\n",
    "file1= 'task2.csv'\n",
    "with open(file1, mode=\"w\", newline=\"\", encoding=\"utf-8\") as file:\n",
    "    writer = csv.writer(file)\n",
    "    writer.writerows(output) "
   ]
  },
  {
   "cell_type": "code",
   "execution_count": 24,
   "metadata": {},
   "outputs": [
    {
     "data": {
      "text/plain": [
       "[<div class=\"product-card\" data-id=\"101\">\n",
       " <img alt=\"Wireless Headphones\" src=\"https://via.placeholder.com/250x150?text=Product+1\"/>\n",
       " <p class=\"name\">Wireless Headphones</p>\n",
       " <p class=\"price\" style=\"display: none;\">$49.99</p>\n",
       " <p class=\"colors\">Available colors: Black, White, Blue</p>\n",
       " <button>Add to Basket</button>\n",
       " </div>,\n",
       " <div class=\"product-card\" data-id=\"102\">\n",
       " <img alt=\"Smart Speaker\" src=\"https://via.placeholder.com/250x150?text=Product+2\"/>\n",
       " <p class=\"name\">Smart Speaker</p>\n",
       " <p class=\"price\" style=\"display: none;\">$89.99</p>\n",
       " <p class=\"colors\">Available colors: Grey, Black</p>\n",
       " <button>Add to Basket</button>\n",
       " </div>,\n",
       " <div class=\"product-card\" data-id=\"103\">\n",
       " <img alt=\"Smart Watch\" src=\"https://via.placeholder.com/250x150?text=Product+3\"/>\n",
       " <p class=\"name\">Smart Watch</p>\n",
       " <p class=\"price\" style=\"display: none;\">$149.99</p>\n",
       " <p class=\"colors\">Available colors: Black, Silver, Gold</p>\n",
       " <button>Add to Basket</button>\n",
       " </div>]"
      ]
     },
     "execution_count": 24,
     "metadata": {},
     "output_type": "execute_result"
    }
   ],
   "source": [
    "products=soup.find('div',{'class':'products'})\n",
    "product_card=products.find_all('div',{'class':'product-card'})\n",
    "product_card\n"
   ]
  },
  {
   "cell_type": "code",
   "execution_count": 25,
   "metadata": {},
   "outputs": [
    {
     "name": "stdout",
     "output_type": "stream",
     "text": [
      "[<div style=\"text-align: center; width: 200px; border: 1px solid #ddd; padding: 10px; border-radius: 5px;\">\n",
      "<img alt=\"Sharp Objects\" src=\"book1.jpg\" style=\"width: 100%; height: auto; border-radius: 5px;\"/>\n",
      "<p><strong>Sharp Objects</strong></p>\n",
      "<p style=\"color: green;\">£47.82</p>\n",
      "<p style=\"color: green;\">✔ In stock</p>\n",
      "<button style=\"background-color: blue; color: white; border: none; padding: 10px 15px; border-radius: 5px; cursor: pointer;\">Add to basket</button>\n",
      "</div>, <div style=\"text-align: center; width: 200px; border: 1px solid #ddd; padding: 10px; border-radius: 5px;\">\n",
      "<img alt=\"In a Dark, Dark Wood\" src=\"book2.jpg\" style=\"width: 100%; height: auto; border-radius: 5px;\"/>\n",
      "<p><strong>In a Dark, Dark Wood</strong></p>\n",
      "<p style=\"color: green;\">£19.63</p>\n",
      "<p style=\"color: green;\">✔ In stock</p>\n",
      "<button style=\"background-color: blue; color: white; border: none; padding: 10px 15px; border-radius: 5px; cursor: pointer;\">Add to basket</button>\n",
      "</div>, <div style=\"text-align: center; width: 200px; border: 1px solid #ddd; padding: 10px; border-radius: 5px;\">\n",
      "<img alt=\"The Past Never Ends\" href=\"http://books.toscrape.com/media/cache/c0/59/c05972805aa7201171b8fc71a5b00292.jpg\" style=\"width: 100%; height: auto; border-radius: 5px;\"/>\n",
      "<p><strong>The Past Never Ends</strong></p>\n",
      "<p style=\"color: green;\">£56.50</p>\n",
      "<p style=\"color: green;\">✔ In stock</p>\n",
      "<button style=\"background-color: blue; color: white; border: none; padding: 10px 15px; border-radius: 5px; cursor: pointer;\">Add to basket</button>\n",
      "</div>, <div style=\"text-align: center; width: 200px; border: 1px solid #ddd; padding: 10px; border-radius: 5px;\">\n",
      "<img alt=\"A Murder in Time\" src=\"book4.jpg\" style=\"width: 100%; height: auto; border-radius: 5px;\"/>\n",
      "<p><strong>A Murder in Time</strong></p>\n",
      "<p style=\"color: green;\">£16.64</p>\n",
      "<p style=\"color: green;\"> Out stock</p>\n",
      "<button style=\"background-color: blue; color: white; border: none; padding: 10px 15px; border-radius: 5px; cursor: pointer;\">Add to basket</button>\n",
      "</div>]\n"
     ]
    }
   ],
   "source": [
    "info = soup.find('div', {'style': \"display: flex; justify-content: space-around; margin-top: 20px;\"})\n",
    "if info:\n",
    "    books = info.find_all('div')\n",
    "    print(books)"
   ]
  },
  {
   "cell_type": "code",
   "execution_count": 26,
   "metadata": {},
   "outputs": [],
   "source": [
    "\n",
    "output=[]\n",
    "for book in books :\n",
    "    title=book.find('strong').get_text()\n",
    "    price=book.find_all('p')[1].get_text()\n",
    "    stock_avialability=book.find_all('p')[2].get_text()\n",
    "    button_text=book.find('button').get_text()\n",
    "    output.append({\"title\":title,\"price\":price,\"stock avialability\":stock_avialability,\"button_text\":button_text})\n",
    " \n"
   ]
  },
  {
   "cell_type": "code",
   "execution_count": 27,
   "metadata": {},
   "outputs": [
    {
     "data": {
      "text/plain": [
       "[{'title': 'Sharp Objects',\n",
       "  'price': '£47.82',\n",
       "  'stock avialability': '✔ In stock',\n",
       "  'button_text': 'Add to basket'},\n",
       " {'title': 'In a Dark, Dark Wood',\n",
       "  'price': '£19.63',\n",
       "  'stock avialability': '✔ In stock',\n",
       "  'button_text': 'Add to basket'},\n",
       " {'title': 'The Past Never Ends',\n",
       "  'price': '£56.50',\n",
       "  'stock avialability': '✔ In stock',\n",
       "  'button_text': 'Add to basket'},\n",
       " {'title': 'A Murder in Time',\n",
       "  'price': '£16.64',\n",
       "  'stock avialability': ' Out stock',\n",
       "  'button_text': 'Add to basket'}]"
      ]
     },
     "execution_count": 27,
     "metadata": {},
     "output_type": "execute_result"
    }
   ],
   "source": [
    "output"
   ]
  },
  {
   "cell_type": "code",
   "execution_count": 109,
   "metadata": {},
   "outputs": [],
   "source": [
    "import json\n",
    "with open(\"task3.json\", \"w\") as file:  \n",
    "    json.dump(output, file, indent=4)"
   ]
  },
  {
   "cell_type": "code",
   "execution_count": 8,
   "metadata": {},
   "outputs": [
    {
     "data": {
      "text/plain": [
       "[<input id=\"username\" name=\"username\" placeholder=\"Enter your username\" type=\"text\"/>,\n",
       " <input id=\"password\" name=\"password\" placeholder=\"Enter your password\" type=\"password\"/>,\n",
       " <input name=\"terms\" type=\"checkbox\"/>,\n",
       " <input type=\"submit\" value=\"Submit\"/>]"
      ]
     },
     "execution_count": 8,
     "metadata": {},
     "output_type": "execute_result"
    }
   ],
   "source": [
    "\n",
    "inputs=soup.find_all('input')\n",
    "inputs"
   ]
  },
  {
   "cell_type": "code",
   "execution_count": 11,
   "metadata": {},
   "outputs": [],
   "source": [
    "output=[]\n",
    "for input in inputs:\n",
    "    name=input.get('name')\n",
    "    input_type=input.get('type')\n",
    "    default_values=input.get('value')\n",
    "    output.append({\"name\":name,\"input type\":input_type,\"default values\":default_values})"
   ]
  },
  {
   "cell_type": "code",
   "execution_count": 12,
   "metadata": {},
   "outputs": [
    {
     "data": {
      "text/plain": [
       "[{'name': 'username', 'input type': 'text', 'default values': None},\n",
       " {'name': 'password', 'input type': 'password', 'default values': None},\n",
       " {'name': 'terms', 'input type': 'checkbox', 'default values': None},\n",
       " {'name': None, 'input type': 'submit', 'default values': 'Submit'}]"
      ]
     },
     "execution_count": 12,
     "metadata": {},
     "output_type": "execute_result"
    }
   ],
   "source": [
    "output"
   ]
  },
  {
   "cell_type": "code",
   "execution_count": 28,
   "metadata": {},
   "outputs": [],
   "source": [
    "import json\n",
    "with open(\"task4.json\", \"w\") as file:  \n",
    "    json.dump(output, file, indent=4)"
   ]
  },
  {
   "cell_type": "code",
   "execution_count": null,
   "metadata": {},
   "outputs": [],
   "source": []
  }
 ],
 "metadata": {
  "kernelspec": {
   "display_name": "Python 3",
   "language": "python",
   "name": "python3"
  },
  "language_info": {
   "codemirror_mode": {
    "name": "ipython",
    "version": 3
   },
   "file_extension": ".py",
   "mimetype": "text/x-python",
   "name": "python",
   "nbconvert_exporter": "python",
   "pygments_lexer": "ipython3",
   "version": "3.11.9"
  }
 },
 "nbformat": 4,
 "nbformat_minor": 2
}
